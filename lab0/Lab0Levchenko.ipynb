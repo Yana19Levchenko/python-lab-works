{
 "cells": [
  {
   "cell_type": "code",
   "execution_count": 4,
   "metadata": {},
   "outputs": [
    {
     "name": "stdout",
     "output_type": "stream",
     "text": [
      "Variant 10\n"
     ]
    }
   ],
   "source": [
    "N = ord(\"Y\") % 10 + 1\n",
    "print(\"Variant\", N)"
   ]
  },
  {
   "cell_type": "markdown",
   "metadata": {},
   "source": [
    "# Norway\n",
    "\n",
    "## Basic facts about Norway:\n",
    "* Capital - Oslo\n",
    "* Area - 385 207 $km^2$\n",
    "* Motto - «Alt for Norge»\n",
    "* Population - 5,457 мільйона (2022)\n",
    "* Official languages -\tNorwegian, Sami\n",
    "* Norway is a sovereign democratic parliamentary constitutional monarchy of a unitary order.\n",
    "\n",
    "## Formation\n",
    "\n",
    "|                Event               |          Date            |\n",
    "|:----------------------------------:|:------------------------:|\n",
    "|Kingdom of Norway before unification|872                       |\n",
    "|Old Kingdom of Norway (Peak Degree) |1263                      |\n",
    "|Kalmar Union                        |1397                      |\n",
    "|Denmark-Norway                      |1524                      |\n",
    "|Restored state                      |February 25, 1814         |\n",
    "|Constitution                        |May 17, 1814              |\n",
    "|Swedish-Norwegian Union             |November 4, 1814          |\n",
    "|Termination of the union            |June 7, 1905              |\n",
    "|Established by NATO                 |April 4, 1949             |\n",
    "\n",
    "---\n",
    "\n",
    "## Outstanding Personalities\n",
    "\n",
    "- **Roald Amundsen** - Norwegian polar explorer and record holder, \"Napoleon of the polar countries\" as expressed by R. Huntford. The first person to reach the South Pole. The first person to visit both geographical poles of the planet.\n",
    "\n",
    "- **Sonya Geni** - Norwegian figure skater and actress, Olympic champion. The first woman in history to win four Olympic gold medals. Sonia Geni was once a Hollywood star, in particular, starred in the 1941 film \"Serenade of the Sun Valley.\"\n",
    "\n",
    "- **Edvard Munch** - one of the most prominent symbolists and expressionists of his time. When Edward was very young, his sister and mother died of tuberculosis. These tragic events greatly influenced Munch and his work. For most of his life, Munch worked on the cycle \"about love, life and death,\" which he called \"The Frieze of Life.\"\n",
    "\n",
    "- **Henrik Ibsen** - Norwegian playwright and poet, whose realistic and controversial plays revolutionized European theater. He created 12 plays on the subjects of everyday life. The most notable among them are the sharp socio-analytical dramas \"Dollhouse\", \"Ghosts\", \"Enemy of the People\" and elegantly psychological dramas \"Wild Duck\", \"Woman from the Sea\".\n",
    "\n",
    "- **Tancred Ibsen** - Norwegian army officer, pilot, director and screenwriter."
   ]
  },
  {
   "cell_type": "markdown",
   "metadata": {},
   "source": [
    "## Attractions\n",
    "\n",
    "*Stavkirk in Urnes*\n",
    "\n",
    "Built at the beginning of the XII century, the wooden church in Urnes is a vivid example of a unique \"animal style,\" characterized by asymmetry of the ornament and the use of animal motifs. There is a version that on the carved panels of the temple reflected stories from Scandinavian mythology.\n",
    "\n",
    "![Stavkirk in Urnes](./photos/Urnes.jpg)\n",
    "\n",
    "*Wöringsfossen*\n",
    "\n",
    "One hundred and eighty-two meter waterfall - the most popular in Norway. It is located in the Mobjodalen valley and is part of the Bjoreiu River, it is the most beautiful at the foot, to which the tourist trail of the local National Route follows. Top view - another convenient point to observe the waterfall Wöringsfossen.\n",
    "\n",
    "![Wöringsfossen](https://sights.com.ua/wp-content/uploads/2022/08/20-glavnyh-dostoprimechatelnostej-norvegii-ff5a037.jpg)\n",
    "\n",
    "*Viking Ship Museum*\n",
    "\n",
    "In the building of the beginning of the XX century, standing on the Bygdyo Peninsula, you can see three huge Viking ships built in the IX century and found a thousand years later in the waters of Oslo. On the grandiose ship buildings there are objects also included in the museum collection: ancient wooden sleds and carts, dishes, home treasure and fragments of fabrics - all this can be seen by everyone today.\n",
    "\n",
    "![Viking Ship Museum](./photos/Museum.jpg)\n",
    "\n",
    "*Holmenkollen*\n",
    "\n",
    "The popular Norwegian resort, located in the suburbs of Oslo, consists of five hundred kilometers of ski, biathlon and slalom tracks.Located on top of the observation deck offers a stunning view of the capital. There is also a ski jump in Holmenkollen, reaching a length of 115 meters.\n",
    "\n",
    "![Holmenkollen](https://sights.com.ua/wp-content/uploads/2022/08/20-glavnyh-dostoprimechatelnostej-norvegii-3887aa4.jpg)\n",
    "\n",
    "*Steinsdalsfoss*\n",
    "\n",
    "One of the most visited waterfalls in Norway is located in the west of the country, near the town of Nurheimsund. Twenty meter water flow is part of the Fosselva River. Located inside the waterfall bridge allows tourists to enjoy an unusual natural spectacle. The surroundings of Steinsdalsfoss (emerald grass, lush forests) are no less beautiful than the waterfall itself.\n",
    "\n",
    "![Steinsdalsfoss](./photos/Steinsdalsfoss.jpg)\n",
    "\n",
    "*Troll's Tongue*\n",
    "\n",
    "The protruding section of the Skjeggedal rock is located far from the classic tourist routes very reminiscent of a giant tongue. To get to it you need to spend five hours and most of the time you have to go uphill. Troll Language offers a magnificent view of the lake Ringedalsvatn, located three hundred and fifty meters below the rock.\n",
    "\n",
    "![Troll's Tongue](https://sights.com.ua/wp-content/uploads/2022/08/20-glavnyh-dostoprimechatelnostej-norvegii-decd5eb.jpg)\n",
    "\n",
    "*Northern Lights*\n",
    "\n",
    "Mixing with particles of gases in the upper atmosphere, tiny solar particles give rise to an amazing natural phenomenon - the Northern Lights. Norway is the only country in the world where you can see it in all its glory. Multicolored flashes in the sky are best observed in the northern part countries from October to February.\n",
    "\n",
    "![Northern Lights](./photos/NorthernLights.jpg)"
   ]
  },
  {
   "cell_type": "markdown",
   "metadata": {},
   "source": [
    "<p style=\"color: #aaf8f7;\">Interesting facts</p>\n",
    "\n",
    "~ All Norwegians speak at least two languages - Norwegian and English.\n",
    "\n",
    "~ To see garbage lying somewhere on the ground in Norwegian cities is simply unrealistic.\n",
    "\n",
    "~ Robbery or murder in Norway is a national event. Such grave crimes here are a vanishing rarity."
   ]
  },
  {
   "cell_type": "markdown",
   "metadata": {},
   "source": [
    "<ol style=\"border: 3px solid #aaf8f7;\">\n",
    "    Why Norway?\n",
    "\n",
    "<li> Norway is a country for true romantics. Full-water rivers and grandiose waterfalls, snow-white mountain peaks and green forests, sky reflected in the gentle surface of lakes, fantastic fjords and glaciers... </li>\n",
    "<li> The entire Norwegian highlands are cut by picturesque fjords, to describe which is a thankless task.</li>\n",
    "<li> Paradise for fishermen</li>\n",
    "<li> When traveling on Norwegian roads, it seems that you are driving along a fabulous path: the width of the road in some places is only a few meters.</li>\n",
    "</ol>\n",
    "\n",
    "[Book a tour to Norway!](https://adriatic-travel.com.ua/country/no)"
   ]
  },
  {
   "cell_type": "code",
   "execution_count": 5,
   "metadata": {},
   "outputs": [
    {
     "data": {
      "text/html": [
       "\n",
       "<svg width=\"300\" height=\"200\" xmlns=\"http://www.w3.org/2000/svg\">\n",
       "  <rect x=\"20\" y=\"40\" width=\"300\" height=\"200\" fill=\"#ba0c2f\"/>\n",
       "  <rect x=\"20\" y=\"95\" width=\"280\" height=\"45\" fill=\"#ffffff\"/>\n",
       "  <rect x=\"85\" y=\"40\" width=\"45\" height=\"160\" fill=\"#ffffff\"/>\n",
       "  <rect x=\"20\" y=\"106\" width=\"280\" height=\"25\" fill=\"#00205b\"/>\n",
       "  <rect x=\"95\" y=\"40\" width=\"25\" height=\"160\" fill=\"#00205b\"/>\n",
       "</svg>\n"
      ],
      "text/plain": [
       "<IPython.core.display.HTML object>"
      ]
     },
     "metadata": {},
     "output_type": "display_data"
    }
   ],
   "source": [
    "%%HTML\n",
    "\n",
    "<svg width=\"300\" height=\"200\" xmlns=\"http://www.w3.org/2000/svg\">\n",
    "  <rect x=\"20\" y=\"40\" width=\"300\" height=\"200\" fill=\"#ba0c2f\"/>\n",
    "  <rect x=\"20\" y=\"95\" width=\"280\" height=\"45\" fill=\"#ffffff\"/>\n",
    "  <rect x=\"85\" y=\"40\" width=\"45\" height=\"160\" fill=\"#ffffff\"/>\n",
    "  <rect x=\"20\" y=\"106\" width=\"280\" height=\"25\" fill=\"#00205b\"/>\n",
    "  <rect x=\"95\" y=\"40\" width=\"25\" height=\"160\" fill=\"#00205b\"/>\n",
    "</svg>"
   ]
  },
  {
   "cell_type": "code",
   "execution_count": 6,
   "metadata": {},
   "outputs": [],
   "source": [
    "def task_10():\n",
    "  while True:\n",
    "    try:\n",
    "      number = int(input(\"Число: \"))\n",
    "      if (number > 0):\n",
    "        break\n",
    "      else:\n",
    "        print(\"Введіть додатне ціле число\")\n",
    "    except:\n",
    "       print(\"Введене значення не є числом\")\n",
    "  for a in range(1, int(number**0.5) + 1):\n",
    "      b = (number - a**2)**0.5\n",
    "      if b == int(b):\n",
    "        print(f\"{a}^2+{int(b)}^2={number}\")\n",
    "        return\n",
    "  print(f\"Число {number} не можна представити квадратами цілих чисел\")"
   ]
  },
  {
   "cell_type": "code",
   "execution_count": 7,
   "metadata": {},
   "outputs": [
    {
     "name": "stdout",
     "output_type": "stream",
     "text": [
      "Число 21 не можна представити квадратами цілих чисел\n"
     ]
    }
   ],
   "source": [
    "task_10()"
   ]
  },
  {
   "cell_type": "code",
   "execution_count": 8,
   "metadata": {},
   "outputs": [
    {
     "name": "stdout",
     "output_type": "stream",
     "text": [
      "Введене значення не є числом\n",
      "Введіть додатне ціле число\n",
      "1^2+3^2=10\n"
     ]
    }
   ],
   "source": [
    "task_10()"
   ]
  }
 ],
 "metadata": {
  "kernelspec": {
   "display_name": "Python 3",
   "language": "python",
   "name": "python3"
  },
  "language_info": {
   "codemirror_mode": {
    "name": "ipython",
    "version": 3
   },
   "file_extension": ".py",
   "mimetype": "text/x-python",
   "name": "python",
   "nbconvert_exporter": "python",
   "pygments_lexer": "ipython3",
   "version": "3.11.4"
  }
 },
 "nbformat": 4,
 "nbformat_minor": 2
}
